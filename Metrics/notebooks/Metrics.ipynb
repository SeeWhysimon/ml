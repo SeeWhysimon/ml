{
 "cells": [
  {
   "cell_type": "markdown",
   "metadata": {},
   "source": [
    "<h2 id=\"basic-metrics-for-classification\">Basic Metrics For Classification</h2>\n",
    "\n",
    "- [Accuracy(include TP \\& FP \\& FN \\& TN)](#accuracy)\n",
    "- [Precision](#precision)\n",
    "- [Recall](#recall)\n",
    "- [F1 score](#f1-score)\n",
    "- [TPR](#true-positive-ratetpr)\n",
    "- [FPR](#false-positive-ratefpr)\n",
    "- [ROC \\& AUC](#receiver-operating-characteristicroc)\n",
    "- [Log Loss](#logloss)"
   ]
  },
  {
   "cell_type": "markdown",
   "metadata": {},
   "source": [
    "<h3 id=\"accuracy\">Accuracy</h3>"
   ]
  },
  {
   "cell_type": "code",
   "execution_count": 40,
   "metadata": {},
   "outputs": [],
   "source": [
    "def accuracy(y_true, y_pred):\n",
    "    correct_counter = 0\n",
    "    for yt, yp in zip(y_true, y_pred):\n",
    "        if yt == yp:\n",
    "            correct_counter += 1\n",
    "    return correct_counter / len(y_true)"
   ]
  },
  {
   "cell_type": "code",
   "execution_count": 41,
   "metadata": {},
   "outputs": [
    {
     "data": {
      "text/plain": [
       "0.625"
      ]
     },
     "execution_count": 41,
     "metadata": {},
     "output_type": "execute_result"
    }
   ],
   "source": [
    "l1 = [0, 1, 1, 1, 0, 0, 0, 1]\n",
    "l2 = [0, 1, 0, 1, 0, 1, 0, 0]\n",
    "\n",
    "accuracy(l1, l2)"
   ]
  },
  {
   "cell_type": "code",
   "execution_count": 42,
   "metadata": {},
   "outputs": [
    {
     "data": {
      "text/plain": [
       "0.625"
      ]
     },
     "execution_count": 42,
     "metadata": {},
     "output_type": "execute_result"
    }
   ],
   "source": [
    "from sklearn import metrics\n",
    "\n",
    "metrics.accuracy_score(l1, l2)"
   ]
  },
  {
   "cell_type": "code",
   "execution_count": 43,
   "metadata": {},
   "outputs": [],
   "source": [
    "def true_positive(y_true, y_pred):\n",
    "    tp = 0\n",
    "    for yt, yp in zip(y_true, y_pred):\n",
    "        if yt == 1 and yp == 1:\n",
    "            tp += 1\n",
    "    return tp\n",
    "\n",
    "def true_negative(y_true, y_pred):\n",
    "    tn = 0\n",
    "    for yt, yp in zip(y_true, y_pred):\n",
    "        if yt == 0 and yp == 0:\n",
    "            tn += 1\n",
    "    return tn\n",
    "\n",
    "def false_positive(y_true, y_pred):\n",
    "    fp = 0\n",
    "    for yt, yp in zip(y_true, y_pred):\n",
    "        if yt == 0 and yp == 1:\n",
    "            fp += 1\n",
    "    return fp\n",
    "\n",
    "def false_negative(y_true, y_pred):\n",
    "    fn = 0\n",
    "    for yt, yp in zip(y_true, y_pred):\n",
    "        if yt == 1 and yp == 0:\n",
    "            fn += 1\n",
    "    return fn"
   ]
  },
  {
   "cell_type": "code",
   "execution_count": 44,
   "metadata": {},
   "outputs": [
    {
     "name": "stdout",
     "output_type": "stream",
     "text": [
      "True positive: 2\n",
      "True negative: 3\n",
      "False positive: 1\n",
      "False negative: 2\n"
     ]
    }
   ],
   "source": [
    "print(f'True positive: {true_positive(l1, l2)}')\n",
    "print(f'True negative: {true_negative(l1, l2)}')\n",
    "print(f'False positive: {false_positive(l1, l2)}')\n",
    "print(f'False negative: {false_negative(l1, l2)}')"
   ]
  },
  {
   "cell_type": "markdown",
   "metadata": {},
   "source": [
    "$$\n",
    "\\text{Accuracy} = \\frac{\\text{TP} + \\text{TN}}{\\text{TP} + \\text{TN} + \\text{FP} + \\text{FN}}\n",
    "$$"
   ]
  },
  {
   "cell_type": "code",
   "execution_count": 45,
   "metadata": {},
   "outputs": [
    {
     "data": {
      "text/plain": [
       "0.625"
      ]
     },
     "execution_count": 45,
     "metadata": {},
     "output_type": "execute_result"
    }
   ],
   "source": [
    "def accuracy_v2(y_true, y_pred): \n",
    "    tp = true_positive(y_true, y_pred) \n",
    "    fp = false_positive(y_true, y_pred) \n",
    "    fn = false_negative(y_true, y_pred) \n",
    "    tn = true_negative(y_true, y_pred) \n",
    "    accuracy_score = (tp + tn) / (tp + tn + fp + fn) \n",
    "    return accuracy_score \n",
    "\n",
    "accuracy_v2(l1, l2)"
   ]
  },
  {
   "cell_type": "markdown",
   "metadata": {},
   "source": [
    "<h3 id=\"precision\">Precision</h3>\n",
    "\n",
    "$$\n",
    "\\text{Precision} = \\frac{\\text{TP}}{\\text{TP} + \\text{FP}}\n",
    "$$"
   ]
  },
  {
   "cell_type": "code",
   "execution_count": 46,
   "metadata": {},
   "outputs": [
    {
     "data": {
      "text/plain": [
       "0.6666666666666666"
      ]
     },
     "execution_count": 46,
     "metadata": {},
     "output_type": "execute_result"
    }
   ],
   "source": [
    "def precision(y_true, y_pred): \n",
    "    tp = true_positive(y_true, y_pred) \n",
    "    fp = false_positive(y_true, y_pred) \n",
    "    precision = tp / (tp + fp) if tp + fp != 0 else 0 \n",
    "    return precision \n",
    "\n",
    "precision(l1, l2)"
   ]
  },
  {
   "cell_type": "markdown",
   "metadata": {},
   "source": [
    "<h3 id=\"recall\">Recall</h3>\n",
    "\n",
    "The recall reflects the model's ability to identify actual positive samples.\n",
    "\n",
    "$$\n",
    "\\text{Recall} = \\frac{\\text{TP}}{\\text{TP} + \\text{FN}}\n",
    "$$"
   ]
  },
  {
   "cell_type": "code",
   "execution_count": 47,
   "metadata": {},
   "outputs": [
    {
     "data": {
      "text/plain": [
       "0.5"
      ]
     },
     "execution_count": 47,
     "metadata": {},
     "output_type": "execute_result"
    }
   ],
   "source": [
    "def recall(y_true, y_pred): \n",
    "    tp = true_positive(y_true, y_pred) \n",
    "    fn = false_negative(y_true, y_pred) \n",
    "    recall = tp / (tp + fn) if tp + fn != 0 else 0\n",
    "    return recall\n",
    "\n",
    "recall(l1, l2)"
   ]
  },
  {
   "cell_type": "markdown",
   "metadata": {},
   "source": [
    "**Precision-Recall Curve**: For every threshold we choose, we calculate the precision and recall values, we can create a plot between these sets of values."
   ]
  },
  {
   "cell_type": "code",
   "execution_count": 48,
   "metadata": {},
   "outputs": [
    {
     "data": {
      "text/plain": [
       "Text(0, 0.5, 'Precision')"
      ]
     },
     "execution_count": 48,
     "metadata": {},
     "output_type": "execute_result"
    },
    {
     "data": {
      "image/png": "[encoded data removed]",
      "text/plain": [
       "<Figure size 700x700 with 1 Axes>"
      ]
     },
     "metadata": {},
     "output_type": "display_data"
    }
   ],
   "source": [
    "import matplotlib.pyplot as plt\n",
    "\n",
    "y_true = [0, 0, 0, 1, 0, 0, 0, 0, 0, 0, \n",
    "          1, 0, 0, 0, 0, 0, 0, 0, 1, 0]\n",
    "y_pred = [0.02638412, 0.11114267, 0.31620708,           \n",
    "          0.0490937,  0.0191491,  0.17554844,        \n",
    "          0.15952202, 0.03819563, 0.11639273, \n",
    "          0.079377,   0.08584789, 0.39095342, \n",
    "          0.27259048, 0.03447096, 0.04644807, \n",
    "          0.03543574, 0.18521942, 0.05934905, \n",
    "          0.61977213, 0.33056815] \n",
    "\n",
    "precisions = []\n",
    "recalls = []\n",
    "thresholds = [0.0490937 , 0.05934905, 0.079377,  \n",
    "              0.08584789, 0.11114267, 0.11639273,  \n",
    "              0.15952202, 0.17554844, 0.18521942,  \n",
    "              0.27259048, 0.31620708, 0.33056815,  \n",
    "              0.39095342, 0.61977213] \n",
    "\n",
    "for threshold in thresholds:\n",
    "    prediction = [1 if x >= threshold else 0 for x in y_pred]\n",
    "    p = precision(y_true, prediction)\n",
    "    r = recall(y_true, prediction)\n",
    "    precisions.append(p)\n",
    "    recalls.append(r)\n",
    "\n",
    "plt.figure(figsize=(7, 7))\n",
    "plt.plot(recalls, precisions)\n",
    "plt.xlabel('Recall', fontsize=15)\n",
    "plt.ylabel('Precision', fontsize=15)"
   ]
  },
  {
   "cell_type": "markdown",
   "metadata": {},
   "source": [
    "<h3 id=\"f1-score\">F1 score</h3>\n",
    "\n",
    "F1 score is a metric that combines both precision and recall. It is defined as a simple weighted average (harmonic mean) of precision and recall. If we denote precision using P and recall using R, we can represent the F1 score as:\n",
    "\n",
    "$$\n",
    "\\text{F1} = \\frac{2\\text{PR}}{\\text{P} + \\text{R}} = \\frac{2\\text{TP}}{2\\text{TP} + \\text{FP} + \\text{FN}}\n",
    "$$"
   ]
  },
  {
   "cell_type": "code",
   "execution_count": 49,
   "metadata": {},
   "outputs": [
    {
     "data": {
      "text/plain": [
       "0.5714285714285715"
      ]
     },
     "execution_count": 49,
     "metadata": {},
     "output_type": "execute_result"
    }
   ],
   "source": [
    "def f1(y_true, y_pred): \n",
    "    p = precision(y_true, y_pred) \n",
    "    r = recall(y_true, y_pred) \n",
    "    score = 2 * p * r / (p + r) if p + r != 0 else 0\n",
    "    return score\n",
    "\n",
    "y_true = [0, 0, 0, 1, 0, 0, 0, 0, 0, 0,      \n",
    "          1, 0, 0, 0, 0, 0, 0, 0, 1, 0] \n",
    "y_pred = [0, 0, 1, 0, 0, 0, 1, 0, 0, 0, \n",
    "          1, 0, 0, 0, 0, 0, 0, 0, 1, 0]\n",
    "\n",
    "f1(y_true, y_pred)"
   ]
  },
  {
   "cell_type": "code",
   "execution_count": 50,
   "metadata": {},
   "outputs": [
    {
     "data": {
      "text/plain": [
       "0.5714285714285714"
      ]
     },
     "execution_count": 50,
     "metadata": {},
     "output_type": "execute_result"
    }
   ],
   "source": [
    "from sklearn.metrics import f1_score\n",
    "f1_score(y_true, y_pred)"
   ]
  },
  {
   "cell_type": "markdown",
   "metadata": {},
   "source": [
    "When dealing with datasets that have **skewed targets**, we should look at F1 (or precision and recall) instead of accuracy. "
   ]
  },
  {
   "cell_type": "markdown",
   "metadata": {},
   "source": [
    "<h3 id=\"TPR\">True Positive Rate(TPR)</h3>\n",
    "\n",
    "$$\n",
    "\\text{TPR} = \\frac{\\text{TP}}{\\text{TP} + \\text{FN}}\n",
    "$$\n",
    "\n",
    "TPR or recall is also known as **sensitivity**. "
   ]
  },
  {
   "cell_type": "code",
   "execution_count": 51,
   "metadata": {},
   "outputs": [],
   "source": [
    "def tpr(y_true, y_pred):\n",
    "    return recall(y_true, y_pred)"
   ]
  },
  {
   "cell_type": "markdown",
   "metadata": {},
   "source": [
    "<h3 id=\"FPR\">False Positive Rate(FPR)</h3>\n",
    "\n",
    "$$\n",
    "\\text{FRP} = \\frac{\\text{FP}}{\\text{TN} + \\text{FP}}\n",
    "$$\n",
    "\n",
    "And $1 - \\text{FPR}$ is known as **specificity** or **True Negative Rate**(TNR)."
   ]
  },
  {
   "cell_type": "code",
   "execution_count": 52,
   "metadata": {},
   "outputs": [],
   "source": [
    "def fpr(y_true, y_pred):\n",
    "    fp = false_positive(y_true, y_pred)\n",
    "    tn = true_negative(y_true, y_pred)\n",
    "    return fp / (tn + fp)"
   ]
  },
  {
   "cell_type": "code",
   "execution_count": 53,
   "metadata": {},
   "outputs": [],
   "source": [
    "tpr_list = []\n",
    "fpr_list = []\n",
    "\n",
    "y_true = [0, 0, 0, 0, 1,\n",
    "          0, 1, 0, 0, 1,\n",
    "          0, 1, 0, 0, 1]\n",
    "y_pred = [0.1, 0.3, 0.2, 0.6, 0.8, \n",
    "          0.05, 0.9, 0.5, 0.3, 0.66,\n",
    "          0.3, 0.2, 0.85, 0.15, 0.99]\n",
    "thresholds = [0, 0.1, 0.2, 0.3, \n",
    "              0.4, 0.5, 0.6, 0.7, \n",
    "              0.8, 0.85, 0.9, 0.99, \n",
    "              1.0]\n",
    "\n",
    "for thresh in thresholds:\n",
    "    temp_pred = [1 if x >= thresh else 0 for x in y_pred]\n",
    "    temp_tpr = tpr(y_true, temp_pred)\n",
    "    temp_fpr = fpr(y_true, temp_pred)\n",
    "    tpr_list.append(temp_tpr)\n",
    "    fpr_list.append(temp_fpr)"
   ]
  },
  {
   "cell_type": "code",
   "execution_count": 54,
   "metadata": {},
   "outputs": [
    {
     "data": {
      "text/html": [
       "<div>\n",
       "<style scoped>\n",
       "    .dataframe tbody tr th:only-of-type {\n",
       "        vertical-align: middle;\n",
       "    }\n",
       "\n",
       "    .dataframe tbody tr th {\n",
       "        vertical-align: top;\n",
       "    }\n",
       "\n",
       "    .dataframe thead th {\n",
       "        text-align: right;\n",
       "    }\n",
       "</style>\n",
       "<table border=\"1\" class=\"dataframe\">\n",
       "  <thead>\n",
       "    <tr style=\"text-align: right;\">\n",
       "      <th></th>\n",
       "      <th>threshold</th>\n",
       "      <th>tpr</th>\n",
       "      <th>fpr</th>\n",
       "    </tr>\n",
       "  </thead>\n",
       "  <tbody>\n",
       "    <tr>\n",
       "      <th>0</th>\n",
       "      <td>0.00</td>\n",
       "      <td>1.0</td>\n",
       "      <td>1.0</td>\n",
       "    </tr>\n",
       "    <tr>\n",
       "      <th>1</th>\n",
       "      <td>0.10</td>\n",
       "      <td>1.0</td>\n",
       "      <td>0.9</td>\n",
       "    </tr>\n",
       "    <tr>\n",
       "      <th>2</th>\n",
       "      <td>0.20</td>\n",
       "      <td>1.0</td>\n",
       "      <td>0.7</td>\n",
       "    </tr>\n",
       "    <tr>\n",
       "      <th>3</th>\n",
       "      <td>0.30</td>\n",
       "      <td>0.8</td>\n",
       "      <td>0.6</td>\n",
       "    </tr>\n",
       "    <tr>\n",
       "      <th>4</th>\n",
       "      <td>0.40</td>\n",
       "      <td>0.8</td>\n",
       "      <td>0.3</td>\n",
       "    </tr>\n",
       "    <tr>\n",
       "      <th>5</th>\n",
       "      <td>0.50</td>\n",
       "      <td>0.8</td>\n",
       "      <td>0.3</td>\n",
       "    </tr>\n",
       "    <tr>\n",
       "      <th>6</th>\n",
       "      <td>0.60</td>\n",
       "      <td>0.8</td>\n",
       "      <td>0.2</td>\n",
       "    </tr>\n",
       "    <tr>\n",
       "      <th>7</th>\n",
       "      <td>0.70</td>\n",
       "      <td>0.6</td>\n",
       "      <td>0.1</td>\n",
       "    </tr>\n",
       "    <tr>\n",
       "      <th>8</th>\n",
       "      <td>0.80</td>\n",
       "      <td>0.6</td>\n",
       "      <td>0.1</td>\n",
       "    </tr>\n",
       "    <tr>\n",
       "      <th>9</th>\n",
       "      <td>0.85</td>\n",
       "      <td>0.4</td>\n",
       "      <td>0.1</td>\n",
       "    </tr>\n",
       "    <tr>\n",
       "      <th>10</th>\n",
       "      <td>0.90</td>\n",
       "      <td>0.4</td>\n",
       "      <td>0.0</td>\n",
       "    </tr>\n",
       "    <tr>\n",
       "      <th>11</th>\n",
       "      <td>0.99</td>\n",
       "      <td>0.2</td>\n",
       "      <td>0.0</td>\n",
       "    </tr>\n",
       "    <tr>\n",
       "      <th>12</th>\n",
       "      <td>1.00</td>\n",
       "      <td>0.0</td>\n",
       "      <td>0.0</td>\n",
       "    </tr>\n",
       "  </tbody>\n",
       "</table>\n",
       "</div>"
      ],
      "text/plain": [
       "    threshold  tpr  fpr\n",
       "0        0.00  1.0  1.0\n",
       "1        0.10  1.0  0.9\n",
       "2        0.20  1.0  0.7\n",
       "3        0.30  0.8  0.6\n",
       "4        0.40  0.8  0.3\n",
       "5        0.50  0.8  0.3\n",
       "6        0.60  0.8  0.2\n",
       "7        0.70  0.6  0.1\n",
       "8        0.80  0.6  0.1\n",
       "9        0.85  0.4  0.1\n",
       "10       0.90  0.4  0.0\n",
       "11       0.99  0.2  0.0\n",
       "12       1.00  0.0  0.0"
      ]
     },
     "execution_count": 54,
     "metadata": {},
     "output_type": "execute_result"
    }
   ],
   "source": [
    "import pandas as pd\n",
    "\n",
    "df = pd.DataFrame({\n",
    "    'threshold': thresholds,\n",
    "    'tpr': tpr_list,\n",
    "    'fpr': fpr_list\n",
    "})\n",
    "\n",
    "df"
   ]
  },
  {
   "cell_type": "markdown",
   "metadata": {},
   "source": [
    "<h3 id=\"ROC & AUC\">Receiver Operating Characteristic(ROC) & AUC</h3>\n",
    "\n",
    "ROC curve will tell you how the threshold impacts false positive rate and true positive rate and thus, in turn, false positives and true positives. You should choose the threshold that is best suited for your problem and datasets.\n",
    "\n",
    "2 ways to determine the best threshold in ROC curves: \n",
    "\n",
    "1. **Youden's J statistic**: $ \\text{J} = \\text{Sensitivity} + \\text{Specificity} - 1 = \\text{TPR} + (1 - \\text{FPR}) - 1 $. The best threshold is at the point that maximizes the value of J.\n",
    "\n",
    "2. **Distance to point (0, 1)**: The best threshold is at the point nearest to (0, 1).\n",
    "\n",
    "And the area under ROC curve is called **AUC**. AUC values range from 0 to 1.\n",
    "\n",
    "- AUC = 1 / 0 implies you may have a perfect model. If AUC = 0, try inverting the probabilities for the predictions.\n",
    "\n",
    "- AUC = 0.5 implies that your predictions are random."
   ]
  },
  {
   "cell_type": "code",
   "execution_count": 55,
   "metadata": {},
   "outputs": [
    {
     "data": {
      "image/png": "[encoded data removed]",
      "text/plain": [
       "<Figure size 700x700 with 1 Axes>"
      ]
     },
     "metadata": {},
     "output_type": "display_data"
    }
   ],
   "source": [
    "plt.figure(figsize=(7, 7)) \n",
    "plt.fill_between(fpr_list, tpr_list, alpha=0.4) \n",
    "plt.plot(fpr_list, tpr_list, lw=3) \n",
    "plt.xlim(0, 1.0) \n",
    "plt.ylim(0, 1.0) \n",
    "plt.xlabel('FPR', fontsize=15) \n",
    "plt.ylabel('TPR', fontsize=15) \n",
    "plt.show() "
   ]
  },
  {
   "cell_type": "markdown",
   "metadata": {},
   "source": [
    "<h3 id=\"logloss\">Log Loss</h3> \n",
    "\n",
    "$$\n",
    "\\text{Log Loss} = -[\\text{target} \\cdot \\log(\\text{prediction}) + (1 - \\text{target}) \\cdot \\log(1 - \\text{prediction})]\n",
    "$$\n",
    "\n",
    "Where target is either 0 or 1 and prediction is a probability of a sample belonging to class 1"
   ]
  },
  {
   "cell_type": "code",
   "execution_count": 56,
   "metadata": {},
   "outputs": [
    {
     "data": {
      "text/plain": [
       "0.49882711861432294"
      ]
     },
     "execution_count": 56,
     "metadata": {},
     "output_type": "execute_result"
    }
   ],
   "source": [
    "import numpy as np\n",
    "\n",
    "def log_loss(y_true, y_proba):\n",
    "    eps = 1e-12\n",
    "    loss = []\n",
    "    for yt, yp in zip(y_true, y_proba):\n",
    "        # Clip the predicted probabilities to the range [eps, 1-eps] to avoid infinite or invalid values during logarithmic calculations \n",
    "        yp = np.clip(yp, eps, 1 - eps) \n",
    "        temp_loss = -1.0 * (yt * np.log(yp) + (1 - yt) * np.log(1 - yp))\n",
    "        loss.append(temp_loss)\n",
    "    return np.mean(loss)\n",
    "\n",
    "log_loss(y_true, y_pred)"
   ]
  },
  {
   "cell_type": "code",
   "execution_count": 57,
   "metadata": {},
   "outputs": [
    {
     "data": {
      "text/plain": [
       "0.49882711861432294"
      ]
     },
     "execution_count": 57,
     "metadata": {},
     "output_type": "execute_result"
    }
   ],
   "source": [
    "from sklearn.metrics import log_loss\n",
    "log_loss(y_true, y_pred)"
   ]
  },
  {
   "cell_type": "markdown",
   "metadata": {},
   "source": [
    "<h2 id=\"advanced-metrics-for-classification\">Advanced Metrics For Classification</h2>\n",
    "\n",
    "- [Macro-, Micro- \\& Weighted-Precision](#advanced-precisions)\n",
    "- [Weighted F1 Score](#advanced-f1-score)\n",
    "- [Confusion Matrix](#confusion-matrix)"
   ]
  },
  {
   "cell_type": "markdown",
   "metadata": {},
   "source": [
    "<h3 id=\"advanced-precisions\">Macro-, Micro- & Weighted-Precision</h3>"
   ]
  },
  {
   "cell_type": "code",
   "execution_count": 58,
   "metadata": {},
   "outputs": [],
   "source": [
    "def macro_precision(y_true, y_pred):\n",
    "    num_classes = len(np.unique(y_true))\n",
    "    total_precision = 0\n",
    "    \n",
    "    for class_ in range(num_classes):\n",
    "        temp_true = [1 if p == class_ else 0 for p in y_true]\n",
    "        temp_pred = [1 if p == class_ else 0 for p in y_pred]\n",
    "        temp_precision = precision(temp_true, temp_pred)\n",
    "        total_precision += temp_precision\n",
    "\n",
    "    total_precision /= num_classes\n",
    "    return total_precision\n",
    "\n",
    "def micro_precision(y_true, y_pred):\n",
    "    num_classes = len(np.unique(y_true))\n",
    "    tp = 0\n",
    "    fp = 0\n",
    "    \n",
    "    for class_ in range(num_classes):\n",
    "        temp_true = [1 if p == class_ else 0 for p in y_true]\n",
    "        temp_pred = [1 if p == class_ else 0 for p in y_pred]\n",
    "        tp += true_positive(temp_true, temp_pred)\n",
    "        fp += false_positive(temp_true, temp_pred)\n",
    "\n",
    "    precision = tp / (tp + fp)\n",
    "    return precision\n",
    "\n",
    "from collections import Counter\n",
    "\n",
    "def weighted_precision(y_true, y_pred):\n",
    "    num_classes = len(np.unique(y_true))\n",
    "    class_counts = Counter(y_true)\n",
    "    overall_precision = 0\n",
    "\n",
    "    for class_ in range(num_classes):\n",
    "        temp_true = [1 if p == class_ else 0 for p in y_true]\n",
    "        temp_pred = [1 if p == class_ else 0 for p in y_pred]\n",
    "        \n",
    "        temp_precision = precision(temp_true, temp_pred)\n",
    "\n",
    "        weighted_precision = class_counts[class_] * temp_precision\n",
    "        overall_precision += weighted_precision\n",
    "    \n",
    "    overall_precision = overall_precision / len(y_true)\n",
    "    return overall_precision"
   ]
  },
  {
   "cell_type": "code",
   "execution_count": 59,
   "metadata": {},
   "outputs": [
    {
     "name": "stdout",
     "output_type": "stream",
     "text": [
      "macro precision error: 0.0\n",
      "micro precision error: 0.0\n",
      "macro precision error: 0.0\n"
     ]
    }
   ],
   "source": [
    "from sklearn.metrics import precision_score\n",
    "\n",
    "y_true = [0, 1, 2, 0, 1, 2, 0, 2, 2]\n",
    "y_pred = [0, 2, 1, 0, 2, 1, 0, 0, 2]\n",
    "\n",
    "my_macro_precision = macro_precision(y_true, y_pred)\n",
    "sklearn_macro_precision = precision_score(y_true, y_pred, average='macro')\n",
    "\n",
    "my_micro_precision = micro_precision(y_true, y_pred)\n",
    "sklearn_micro_precision = precision_score(y_true, y_pred, average='micro')\n",
    "\n",
    "my_weighted_precision = weighted_precision(y_true, y_pred)\n",
    "sklearn_weighted_precision = precision_score(y_true, y_pred, average='weighted')\n",
    "\n",
    "print(f'macro precision error: {my_macro_precision - sklearn_macro_precision}')\n",
    "print(f'micro precision error: {my_micro_precision - sklearn_micro_precision}')\n",
    "print(f'macro precision error: {my_weighted_precision - sklearn_weighted_precision}')"
   ]
  },
  {
   "cell_type": "markdown",
   "metadata": {},
   "source": [
    "<h3 id=\"advanced-f1-score\">Weighted-F1 Score</h3>"
   ]
  },
  {
   "cell_type": "code",
   "execution_count": 60,
   "metadata": {},
   "outputs": [
    {
     "name": "stdout",
     "output_type": "stream",
     "text": [
      "weighted f1 score error: 5.551115123125783e-17\n"
     ]
    }
   ],
   "source": [
    "def weighted_f1(y_true, y_pred):\n",
    "    num_classes = len(np.unique(y_true))\n",
    "    class_counts = Counter(y_true)\n",
    "    overall_f1 = 0\n",
    "    for class_ in range(num_classes):\n",
    "        temp_true = [1 if p == class_ else 0 for p in y_true]\n",
    "        temp_pred = [1 if p == class_ else 0 for p in y_pred]\n",
    "        temp_f1 = f1(temp_true, temp_pred) * class_counts[class_]\n",
    "        overall_f1 += temp_f1\n",
    "    overall_f1 /= len(y_true)\n",
    "    return overall_f1\n",
    "\n",
    "my_weighted_f1 = weighted_f1(y_true, y_pred)\n",
    "sklearn_weighted_f1 = f1_score(y_true, y_pred, average='weighted')\n",
    "print(f'weighted f1 score error: {my_weighted_f1 - sklearn_weighted_f1}')"
   ]
  },
  {
   "cell_type": "markdown",
   "metadata": {},
   "source": [
    "<h3 id=\"confusion-matrix\">Confusion Matrix</h3>"
   ]
  },
  {
   "cell_type": "code",
   "execution_count": 61,
   "metadata": {},
   "outputs": [
    {
     "data": {
      "image/png": "[encoded data removed]",
      "text/plain": [
       "<Figure size 500x500 with 1 Axes>"
      ]
     },
     "metadata": {},
     "output_type": "display_data"
    }
   ],
   "source": [
    "import matplotlib.pyplot as plt\n",
    "import seaborn as sns\n",
    "from sklearn import metrics\n",
    "\n",
    "y_true = [0, 1, 2, 0, 1, 2, 0, 2, 2] \n",
    "y_pred = [0, 2, 1, 0, 2, 1, 0, 0, 2]\n",
    "\n",
    "cm = metrics.confusion_matrix(y_true, y_pred)\n",
    "\n",
    "plt.figure(figsize=(5, 5))\n",
    "cmap = sns.cubehelix_palette(50, hue=0.05, rot=0, light=0.9, dark=0, as_cmap=True)\n",
    "sns.set(font_scale=2.5)\n",
    "sns.heatmap(cm, annot=True, cmap=cmap, cbar=False)\n",
    "plt.ylabel('Actual Labels', fontsize=20) \n",
    "plt.xlabel('Predicted Labels', fontsize=20)\n",
    "plt.tight_layout()\n",
    "plt.show()"
   ]
  },
  {
   "cell_type": "markdown",
   "metadata": {},
   "source": [
    "<h3 id=\"multi-label-classification-problem\">Multi-lable Classification Problem</h3>\n",
    "\n",
    "Related metrics:\n",
    "\n",
    "- Precision at k, **P@k**.\n",
    "- Average precision at k, **AP@k**.\n",
    "- Mean average precision at k, **MAP@k**.\n",
    "- **Log Loss**."
   ]
  },
  {
   "cell_type": "code",
   "execution_count": 62,
   "metadata": {},
   "outputs": [
    {
     "name": "stdout",
     "output_type": "stream",
     "text": [
      "y_true=[1, 2, 3]\n",
      "y_pred=[0, 1, 2]\n",
      "AP@1=0.0\n",
      "\n",
      "y_true=[1, 2, 3]\n",
      "y_pred=[0, 1, 2]\n",
      "AP@2=0.25\n",
      "\n",
      "y_true=[1, 2, 3]\n",
      "y_pred=[0, 1, 2]\n",
      "AP@3=0.38888888888888884\n",
      "\n",
      "y_true=[0, 2]\n",
      "y_pred=[1]\n",
      "AP@1=0.0\n",
      "\n",
      "y_true=[0, 2]\n",
      "y_pred=[1]\n",
      "AP@2=0.0\n",
      "\n",
      "y_true=[0, 2]\n",
      "y_pred=[1]\n",
      "AP@3=0.0\n",
      "\n",
      "y_true=[1]\n",
      "y_pred=[0, 2, 3]\n",
      "AP@1=0.0\n",
      "\n",
      "y_true=[1]\n",
      "y_pred=[0, 2, 3]\n",
      "AP@2=0.0\n",
      "\n",
      "y_true=[1]\n",
      "y_pred=[0, 2, 3]\n",
      "AP@3=0.0\n",
      "\n",
      "y_true=[2, 3]\n",
      "y_pred=[2, 3, 4, 0]\n",
      "AP@1=1.0\n",
      "\n",
      "y_true=[2, 3]\n",
      "y_pred=[2, 3, 4, 0]\n",
      "AP@2=1.0\n",
      "\n",
      "y_true=[2, 3]\n",
      "y_pred=[2, 3, 4, 0]\n",
      "AP@3=0.8888888888888888\n",
      "\n",
      "y_true=[1, 0]\n",
      "y_pred=[0, 1, 2]\n",
      "AP@1=1.0\n",
      "\n",
      "y_true=[1, 0]\n",
      "y_pred=[0, 1, 2]\n",
      "AP@2=1.0\n",
      "\n",
      "y_true=[1, 0]\n",
      "y_pred=[0, 1, 2]\n",
      "AP@3=0.8888888888888888\n",
      "\n",
      "y_true=[]\n",
      "y_pred=[0]\n",
      "AP@1=0.0\n",
      "\n",
      "y_true=[]\n",
      "y_pred=[0]\n",
      "AP@2=0.0\n",
      "\n",
      "y_true=[]\n",
      "y_pred=[0]\n",
      "AP@3=0.0\n",
      "\n",
      "MAP@1=0.3333333333333333\n"
     ]
    }
   ],
   "source": [
    "def pk(y_true, y_pred, k):\n",
    "    if k == 0: \n",
    "        return 0\n",
    "    return len(set(y_pred[:k]) & set(y_true)) / k\n",
    "\n",
    "def apk(y_true, y_pred, k):\n",
    "    precisions = []\n",
    "    \n",
    "    for i in range(k):\n",
    "        precisions.append(pk(y_true, y_pred, i+1))\n",
    "\n",
    "    return sum(precisions) / len(precisions) if precisions else 0\n",
    "\n",
    "def mapk(y_true_list, y_pred_list, k):\n",
    "    apk_values = []\n",
    "    num_samples = len(y_true_list)\n",
    "    for i in range(num_samples):\n",
    "        apk_values.append(apk(y_true_list[i], y_pred_list[i], k=k))\n",
    "    return sum(apk_values) / len(apk_values)\n",
    "\n",
    "y_true = [[1, 2, 3], \n",
    "          [0, 2], \n",
    "          [1], \n",
    "          [2, 3], \n",
    "          [1, 0], \n",
    "          []] \n",
    "y_pred = [[0, 1, 2], \n",
    "          [1], \n",
    "          [0, 2, 3], \n",
    "          [2, 3, 4, 0], \n",
    "          [0, 1, 2], \n",
    "          [0]] \n",
    "\n",
    "for i in range(len(y_true)):\n",
    "    for j in range(1, 4):\n",
    "        print(f'y_true={y_true[i]}\\ny_pred={y_pred[i]}\\nAP@{j}={apk(y_true[i], y_pred[i], k=j)}\\n')\n",
    "\n",
    "map1 = mapk(y_true, y_pred, 1)\n",
    "print(f'MAP@1={map1}')\n"
   ]
  },
  {
   "cell_type": "code",
   "execution_count": 63,
   "metadata": {},
   "outputs": [
    {
     "name": "stdout",
     "output_type": "stream",
     "text": [
      "Log Loss: 0.2136\n"
     ]
    }
   ],
   "source": [
    "import numpy as np\n",
    "\n",
    "def log_loss_multilabel(y_true, y_pred, eps=1e-15):\n",
    "    y_pred = np.clip(y_pred, eps, 1 - eps)\n",
    "\n",
    "    loss = -np.mean(y_true * np.log(y_pred) + (1 - y_true) * np.log(1 - y_pred))\n",
    "\n",
    "    return loss\n",
    "\n",
    "y_true = np.array([[1, 0, 1], [0, 1, 0], [1, 0, 0]])\n",
    "y_pred = np.array([[0.9, 0.1, 0.8], [0.2, 0.7, 0.3], [0.8, 0.2, 0.1]])\n",
    "\n",
    "loss = log_loss_multilabel(y_true, y_pred)\n",
    "print(f'Log Loss: {loss:.4f}')"
   ]
  },
  {
   "cell_type": "markdown",
   "metadata": {},
   "source": [
    "<h2 id=\"basic-metrics-for-regression\">Basic Metrics For Regression</h2>\n",
    "\n",
    "- [MAE](#mae)\n",
    "- [MSE \\& RMSE](#mse-rmse)\n",
    "- [MSLE \\& RMSL](#msle-rmsle)\n",
    "- [PE \\& MPE \\& MAPE](#pe-mpe-mape)\n",
    "- [$\\text{R}^2$](#r2)"
   ]
  },
  {
   "cell_type": "markdown",
   "metadata": {},
   "source": [
    "<h3 id=\"mae\">MAE</h3>"
   ]
  },
  {
   "cell_type": "code",
   "execution_count": 64,
   "metadata": {},
   "outputs": [
    {
     "data": {
      "text/plain": [
       "0.09800000000000002"
      ]
     },
     "execution_count": 64,
     "metadata": {},
     "output_type": "execute_result"
    }
   ],
   "source": [
    "def mean_absolute_error(y_true, y_pred):\n",
    "    error = np.abs(y_true - y_pred)\n",
    "    mae = np.mean(error)\n",
    "    return mae\n",
    "\n",
    "y_true = np.array([1.1, 1.2, 1.3, 1.4, 1.5])\n",
    "y_pred = np.array([0.9, 1.1, 1.13, 1.4, 1.52])\n",
    "\n",
    "mean_absolute_error(y_true, y_pred)"
   ]
  },
  {
   "cell_type": "markdown",
   "metadata": {},
   "source": [
    "<h3 id=\"mse-rmse\">MSE & RMSE<h3>"
   ]
  },
  {
   "cell_type": "code",
   "execution_count": 65,
   "metadata": {},
   "outputs": [
    {
     "name": "stdout",
     "output_type": "stream",
     "text": [
      "MSE: 0.01586000000000001\n",
      "RMSE: 0.12593649193144935\n"
     ]
    }
   ],
   "source": [
    "def mean_squared_error(y_true, y_pred):\n",
    "    error = np.square(y_true - y_pred)\n",
    "    mse = np.mean(error)\n",
    "    return mse\n",
    "\n",
    "def root_mean_squared_error(y_true, y_pred):\n",
    "    mse = mean_squared_error(y_true, y_pred)\n",
    "    return np.sqrt(mse)\n",
    "\n",
    "y_true = np.array([1.1, 1.2, 1.3, 1.4, 1.5])\n",
    "y_pred = np.array([0.9, 1.1, 1.13, 1.4, 1.52])\n",
    "print(f'MSE: {mean_squared_error(y_true, y_pred)}')\n",
    "print(f'RMSE: {root_mean_squared_error(y_true, y_pred)}')"
   ]
  },
  {
   "cell_type": "markdown",
   "metadata": {},
   "source": [
    "<h3 id='msle-rmsle'>MSLE & RMSLE</h3>"
   ]
  },
  {
   "cell_type": "code",
   "execution_count": 66,
   "metadata": {},
   "outputs": [
    {
     "name": "stdout",
     "output_type": "stream",
     "text": [
      "MSLE: 0.023067797839897274\n",
      "RMSLE: 0.08865664103720602\n"
     ]
    }
   ],
   "source": [
    "def mean_squared_log_error(y_true, y_pred):\n",
    "    error = np.log1p(y_true) - np.log1p(y_pred)\n",
    "    msle = np.mean(error)\n",
    "    return msle\n",
    "\n",
    "def root_mean_squared_log_error(y_true, y_pred):\n",
    "    msle = mean_squared_log_error(y_true, y_pred)\n",
    "    return np.sqrt(msle)\n",
    "\n",
    "y_true = np.array([1e-9, 1.2, 1.3, 1.4, 1.5])\n",
    "y_pred = np.array([1e-9, 1.1, 1.13, 1.4, 1.52])\n",
    "print(f'MSLE: {mean_squared_log_error(y_true, y_pred)}')\n",
    "print(f'RMSLE: {root_mean_squared_error(y_true, y_pred)}')"
   ]
  },
  {
   "cell_type": "markdown",
   "metadata": {},
   "source": [
    "<h3 id='pe-mpe-mape'>PE & MPE & MAPE</h3>\n",
    "\n",
    "$$\n",
    "\\text{PE} = \\frac{\\text{True Value} - \\text{Predicted Value}}{\\text{True Value}}\n",
    "$$"
   ]
  },
  {
   "cell_type": "code",
   "execution_count": 67,
   "metadata": {},
   "outputs": [
    {
     "name": "stdout",
     "output_type": "stream",
     "text": [
      "MPE: -0.013333333333333317\n",
      "MAPE: 0.053333333333333344\n"
     ]
    }
   ],
   "source": [
    "def mean_percentage_error(y_true, y_pred):\n",
    "    pe = (y_true - y_pred) / y_true\n",
    "    mpe = np.mean(pe)\n",
    "    return mpe\n",
    "\n",
    "def mean_abs_percentage_error(y_true, y_pred):\n",
    "    ape = np.abs(y_true - y_pred) / y_true\n",
    "    mape = np.mean(ape)\n",
    "    return mape\n",
    "\n",
    "y_true = np.array([3, 3, 3, 3, 3])\n",
    "y_pred = np.array([3.3, 3.2, 2.9, 2.8, 3.0])\n",
    "print(f'MPE: {mean_percentage_error(y_true, y_pred)}')\n",
    "print(f'MAPE: {mean_abs_percentage_error(y_true, y_pred)}')"
   ]
  },
  {
   "cell_type": "markdown",
   "metadata": {},
   "source": [
    "<h3 id='r2'>R<sup>2</h3>\n",
    "\n",
    "Also known as the **coefficient of determination**. \n",
    "\n",
    "$$\n",
    "\\text{R}^2 = 1 - \\frac{\\sum_{i=1}^{N} (y_{t_i} - y_{p_i})^2}{\\sum_{i=1}^{N} (y_{t_i} - \\bar{y_t})}\n",
    "$$"
   ]
  },
  {
   "cell_type": "code",
   "execution_count": 68,
   "metadata": {},
   "outputs": [
    {
     "name": "stdout",
     "output_type": "stream",
     "text": [
      "R^2: 0.9976007677543185\n"
     ]
    }
   ],
   "source": [
    "def r2(y_true, y_pred):\n",
    "    y_true_mean = np.mean(y_true)\n",
    "    r2 = 1 - np.sum(np.square(y_true - y_pred)) / np.sum(np.square(y_true - y_true_mean))\n",
    "    return r2\n",
    "\n",
    "y_true = np.array([3.31, 3.19, 2.91, 2.81, 3.0])\n",
    "y_pred = np.array([3.3, 3.2, 2.9, 2.8, 3.0])\n",
    "print(f'R^2: {r2(y_true, y_pred)}')"
   ]
  },
  {
   "cell_type": "markdown",
   "metadata": {},
   "source": [
    "<h2 id='advanced-metrics-for-regression'>Advanced Metrics For Regression</h2>\n",
    "\n",
    "- [QWK](#qwk)\n",
    "- [MCC](#mcc)"
   ]
  },
  {
   "cell_type": "markdown",
   "metadata": {},
   "source": [
    "<h3 id='qwk'>QWK</h3>"
   ]
  },
  {
   "cell_type": "code",
   "execution_count": 69,
   "metadata": {},
   "outputs": [
    {
     "name": "stdout",
     "output_type": "stream",
     "text": [
      "0.33333333333333337\n",
      "0.4444444444444444\n"
     ]
    }
   ],
   "source": [
    "from sklearn import metrics\n",
    "\n",
    "y_true = [1, 2, 3, 1, 2, 3, 1, 2, 3]\n",
    "y_pred = [2, 1, 3, 1, 2, 3, 3, 1, 2]\n",
    "\n",
    "print(metrics.cohen_kappa_score(y_true, y_pred, weights='quadratic'))\n",
    "print(metrics.accuracy_score(y_true, y_pred))"
   ]
  },
  {
   "cell_type": "markdown",
   "metadata": {},
   "source": [
    "<h3 id='mcc'>MCC</h3>\n",
    "\n",
    "**Matthew's Correlation Coefficient**(MCC) ranges from -1 to 1. 1 is perfect prediction while -1 is imperfect, and 0 is random prediction.\n",
    "\n",
    "$$\n",
    "\\text{MCC} = \\frac{\\text{TP} \\cdot \\text{TN} - \\text{FP} \\cdot \\text{FN}}\n",
    "{\\sqrt{(\\text{TP} + \\text{FP}) \\cdot (\\text{FN} + \\text{TN}) \\cdot (\\text{FP} + \\text{TN}) \\cdot (\\text{TP} + \\text{FN})}}\n",
    "$$"
   ]
  },
  {
   "cell_type": "code",
   "execution_count": 70,
   "metadata": {},
   "outputs": [
    {
     "data": {
      "text/plain": [
       "0"
      ]
     },
     "execution_count": 70,
     "metadata": {},
     "output_type": "execute_result"
    }
   ],
   "source": [
    "def mcc(y_true, y_pred): \n",
    "    tp = true_positive(y_true, y_pred) \n",
    "    tn = true_negative(y_true, y_pred) \n",
    "    fp = false_positive(y_true, y_pred) \n",
    "    fn = false_negative(y_true, y_pred) \n",
    "    \n",
    "    numerator = (tp * tn) - (fp * fn) \n",
    "    denominator = ((tp + fp) * \n",
    "                   (fn + tn) * \n",
    "                   (fp + tn) * \n",
    "                   (tp + fn)) \n",
    "    denominator = denominator ** 0.5 \n",
    "    if denominator == 0:\n",
    "        return 0\n",
    "    else:\n",
    "        return numerator / denominator\n",
    "\n",
    "y_true = [1, 2, 3, 1, 2, 3, 1, 2, 3]\n",
    "y_pred = [2, 1, 3, 1, 2, 3, 3, 1, 2]\n",
    "mcc(y_true, y_pred)"
   ]
  }
 ],
 "metadata": {
  "kernelspec": {
   "display_name": "Python 3",
   "language": "python",
   "name": "python3"
  },
  "language_info": {
   "codemirror_mode": {
    "name": "ipython",
    "version": 3
   },
   "file_extension": ".py",
   "mimetype": "text/x-python",
   "name": "python",
   "nbconvert_exporter": "python",
   "pygments_lexer": "ipython3",
   "version": "3.9.12"
  }
 },
 "nbformat": 4,
 "nbformat_minor": 2
}
